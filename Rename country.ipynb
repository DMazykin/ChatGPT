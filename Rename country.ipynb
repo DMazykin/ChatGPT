{
 "cells": [
  {
   "cell_type": "code",
   "execution_count": 1,
   "id": "8ffd3d5c-f5d7-4f75-a983-08d6f2125fa5",
   "metadata": {},
   "outputs": [],
   "source": [
    "import openai\n",
    "import os\n",
    "import json\n",
    "\n",
    "openai.api_key  = os.getenv('OPENAI_API_KEY')"
   ]
  },
  {
   "cell_type": "markdown",
   "id": "ce3a8985-5326-4346-8ec5-2c1bd606a1be",
   "metadata": {},
   "source": [
    "### List to transform"
   ]
  },
  {
   "cell_type": "code",
   "execution_count": 28,
   "id": "0459b268-3bee-4ef7-b44d-c38da18d51c3",
   "metadata": {},
   "outputs": [],
   "source": [
    "country_list = [\"UK\", \"France\", \"Slovak\", \"UKR\", \"England\", \"Эстния\", \"Frankrach\"]"
   ]
  },
  {
   "cell_type": "code",
   "execution_count": 30,
   "id": "6d14d1c0-cc98-4c27-8847-51ffef433611",
   "metadata": {},
   "outputs": [],
   "source": [
    "def get_completion(prompt, model=\"gpt-3.5-turbo\"): \n",
    "    response = openai.Completion.create(\n",
    "        model=model,\n",
    "        prompt=prompt,\n",
    "        temperature=0.5,  # This controls the randomness of the model's output\n",
    "        max_tokens=1000,  # Adjust the desired length of the generated completion\n",
    "        n=1,  # Generate a single completion\n",
    "        stop=None  # You can specify a stop sequence to end the completion if needed\n",
    "    )\n",
    "    \n",
    "    return response.choices[0]"
   ]
  },
  {
   "cell_type": "code",
   "execution_count": 36,
   "id": "02705e52-8fa1-45f1-a4e3-ebd028dfddc6",
   "metadata": {},
   "outputs": [
    {
     "data": {
      "text/plain": [
       "<OpenAIObject at 0x7f93ab030a10> JSON: {\n",
       "  \"finish_reason\": \"stop\",\n",
       "  \"index\": 0,\n",
       "  \"logprobs\": null,\n",
       "  \"text\": \"\\n['GBR', 'FRA', 'SVK', 'UKR', 'GBR', 'EST', 'FRA']\"\n",
       "}"
      ]
     },
     "execution_count": 36,
     "metadata": {},
     "output_type": "execute_result"
    }
   ],
   "source": [
    "prompt = f\"\"\"\n",
    "You will get a list of elements with counrty names, which can be in different format: full name, short name, abbriviation etc. \n",
    "There could be a typo or missing letter, so try to fix it and assume that it's a country name.\n",
    "Your task is covert each element of to country code in ISO3 format. \\\n",
    "If you can't find appropriete ISO3 code return 'N/A' for such element \\\n",
    "Return it in the same list format\n",
    "\n",
    "List to check: {str(your_list)}\n",
    "\"\"\"\n",
    "\n",
    "response = get_completion(prompt, model=\"text-davinci-003\")\n",
    "response"
   ]
  },
  {
   "cell_type": "code",
   "execution_count": 38,
   "id": "1f803615-ee0d-42f7-a321-3214b766b59e",
   "metadata": {},
   "outputs": [
    {
     "data": {
      "text/plain": [
       "\"\\n['GBR', 'FRA', 'SVK', 'UKR', 'GBR', 'EST', 'FRA']\""
      ]
     },
     "execution_count": 38,
     "metadata": {},
     "output_type": "execute_result"
    }
   ],
   "source": [
    "list_str = response.text\n",
    "list_str"
   ]
  },
  {
   "cell_type": "markdown",
   "id": "2aba323e-8c94-4386-a3a4-5423625c7d0c",
   "metadata": {},
   "source": [
    "# GTP 3.5 model"
   ]
  },
  {
   "cell_type": "code",
   "execution_count": 40,
   "id": "896e04a3-1f8d-40fe-aeb8-4b123e9f6881",
   "metadata": {},
   "outputs": [],
   "source": [
    "def get_chat_completion(prompt, model=\"gpt-3.5-turbo\"): # Andrew mentioned that the prompt/ completion paradigm is preferable for this class\n",
    "    messages = [{\"role\": \"user\", \"content\": prompt}]\n",
    "    response = openai.ChatCompletion.create(\n",
    "        model=model,\n",
    "        messages=messages,\n",
    "        temperature=0, # this is the degree of randomness of the model's output\n",
    "    )\n",
    "    return response.choices[0].message[\"content\"]"
   ]
  },
  {
   "cell_type": "code",
   "execution_count": 41,
   "id": "c85332e7-a8f2-4739-bd99-7625a5d50eb2",
   "metadata": {},
   "outputs": [
    {
     "data": {
      "text/plain": [
       "\"Expected output: ['GBR', 'FRA', 'SVK', 'UKR', 'N/A', 'EST', 'FRA']\\n\\nExplanation:\\n- 'UK' can be interpreted as United Kingdom, so the ISO3 code is 'GBR'\\n- 'France' is already in the correct format, so the ISO3 code is 'FRA'\\n- 'Slovak' can be interpreted as Slovakia, so the ISO3 code is 'SVK'\\n- 'UKR' is already in the correct format, so the ISO3 code is 'UKR'\\n- 'England' can be interpreted as part of the United Kingdom, but there is no ISO3 code for it, so it returns 'N/A'\\n- 'Эстния' is the Russian name for Estonia, so the ISO3 code is 'EST'\\n- 'Frankrach' is a misspelling of France, so the ISO3 code is 'FRA'\""
      ]
     },
     "execution_count": 41,
     "metadata": {},
     "output_type": "execute_result"
    }
   ],
   "source": [
    "get_chat_completion(prompt)"
   ]
  }
 ],
 "metadata": {
  "kernelspec": {
   "display_name": "Python 3 (ipykernel)",
   "language": "python",
   "name": "python3"
  },
  "language_info": {
   "codemirror_mode": {
    "name": "ipython",
    "version": 3
   },
   "file_extension": ".py",
   "mimetype": "text/x-python",
   "name": "python",
   "nbconvert_exporter": "python",
   "pygments_lexer": "ipython3",
   "version": "3.11.3"
  }
 },
 "nbformat": 4,
 "nbformat_minor": 5
}
